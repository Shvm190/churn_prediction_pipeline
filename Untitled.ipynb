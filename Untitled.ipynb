{
 "cells": [
  {
   "cell_type": "code",
   "execution_count": 4,
   "id": "07953484-d15e-4a5b-9e5f-e23529c74bce",
   "metadata": {
    "scrolled": true
   },
   "outputs": [],
   "source": [
    "import pandas as pd\n",
    "import os\n",
    "\n",
    "# raw_data_dir = os.path.join(os.path.dirname(__file__), '../data/raw')\n",
    "df = pd.read_csv(\"data/raw/telco_churn.csv\")\n"
   ]
  },
  {
   "cell_type": "code",
   "execution_count": 6,
   "id": "b197a6d4-ada0-4f00-89ce-77ca296ab08f",
   "metadata": {},
   "outputs": [
    {
     "name": "stdout",
     "output_type": "stream",
     "text": [
      "Checking columns for non-numeric data...\n"
     ]
    }
   ],
   "source": [
    "print(\"Checking columns for non-numeric data...\")\n",
    "problem_columns = []\n",
    "\n",
    "# Iterate through all columns in the DataFrame\n",
    "for col in df.columns:\n",
    "    # Try to convert the column to a numeric type\n",
    "    try:\n",
    "        pd.to_numeric(df[col])\n",
    "    except ValueError:\n",
    "        # If a ValueError is raised, it means the column contains non-numeric data\n",
    "        # Store the column name and continue\n",
    "        problem_columns.append(col)\n",
    "\n",
    "\n",
    "if problem_columns:\n",
    "    print(\"\\nProblematic columns with non-numeric data:\")\n",
    "    for col in problem_columns:\n",
    "        print(f\"- {col}\")\n",
    "else:\n",
    "    print(\"\\nNo problematic columns found. The issue might be in the profiling tool itself.\")\n"
   ]
  },
  {
   "cell_type": "code",
   "execution_count": 7,
   "id": "9c7860f2-6f43-4ba4-ba44-ca4272f0adae",
   "metadata": {
    "scrolled": true
   },
   "outputs": [
    {
     "name": "stdout",
     "output_type": "stream",
     "text": [
      "\n",
      "Problematic columns with non-numeric data:\n",
      "- customerID\n",
      "- gender\n",
      "- Partner\n",
      "- Dependents\n",
      "- PhoneService\n",
      "- MultipleLines\n",
      "- InternetService\n",
      "- OnlineSecurity\n",
      "- OnlineBackup\n",
      "- DeviceProtection\n",
      "- TechSupport\n",
      "- StreamingTV\n",
      "- StreamingMovies\n",
      "- Contract\n",
      "- PaperlessBilling\n",
      "- PaymentMethod\n",
      "- TotalCharges\n",
      "- Churn\n"
     ]
    }
   ],
   "source": []
  },
  {
   "cell_type": "code",
   "execution_count": 9,
   "id": "590684a3-452e-4f6f-a3ac-8a94a26158b6",
   "metadata": {
    "scrolled": true
   },
   "outputs": [
    {
     "data": {
      "text/html": [
       "<div>\n",
       "<style scoped>\n",
       "    .dataframe tbody tr th:only-of-type {\n",
       "        vertical-align: middle;\n",
       "    }\n",
       "\n",
       "    .dataframe tbody tr th {\n",
       "        vertical-align: top;\n",
       "    }\n",
       "\n",
       "    .dataframe thead th {\n",
       "        text-align: right;\n",
       "    }\n",
       "</style>\n",
       "<table border=\"1\" class=\"dataframe\">\n",
       "  <thead>\n",
       "    <tr style=\"text-align: right;\">\n",
       "      <th></th>\n",
       "      <th>customerID</th>\n",
       "      <th>gender</th>\n",
       "      <th>SeniorCitizen</th>\n",
       "      <th>Partner</th>\n",
       "      <th>Dependents</th>\n",
       "      <th>tenure</th>\n",
       "      <th>PhoneService</th>\n",
       "      <th>MultipleLines</th>\n",
       "      <th>InternetService</th>\n",
       "      <th>OnlineSecurity</th>\n",
       "      <th>...</th>\n",
       "      <th>DeviceProtection</th>\n",
       "      <th>TechSupport</th>\n",
       "      <th>StreamingTV</th>\n",
       "      <th>StreamingMovies</th>\n",
       "      <th>Contract</th>\n",
       "      <th>PaperlessBilling</th>\n",
       "      <th>PaymentMethod</th>\n",
       "      <th>MonthlyCharges</th>\n",
       "      <th>TotalCharges</th>\n",
       "      <th>Churn</th>\n",
       "    </tr>\n",
       "  </thead>\n",
       "  <tbody>\n",
       "    <tr>\n",
       "      <th>5723</th>\n",
       "      <td>7824-PANSQ</td>\n",
       "      <td>Male</td>\n",
       "      <td>0</td>\n",
       "      <td>No</td>\n",
       "      <td>No</td>\n",
       "      <td>58</td>\n",
       "      <td>Yes</td>\n",
       "      <td>Yes</td>\n",
       "      <td>Fiber optic</td>\n",
       "      <td>No</td>\n",
       "      <td>...</td>\n",
       "      <td>No</td>\n",
       "      <td>Yes</td>\n",
       "      <td>No</td>\n",
       "      <td>No</td>\n",
       "      <td>Month-to-month</td>\n",
       "      <td>No</td>\n",
       "      <td>Bank transfer (automatic)</td>\n",
       "      <td>80.65</td>\n",
       "      <td>4807.35</td>\n",
       "      <td>No</td>\n",
       "    </tr>\n",
       "    <tr>\n",
       "      <th>6161</th>\n",
       "      <td>4343-EJVQB</td>\n",
       "      <td>Male</td>\n",
       "      <td>0</td>\n",
       "      <td>No</td>\n",
       "      <td>No</td>\n",
       "      <td>7</td>\n",
       "      <td>Yes</td>\n",
       "      <td>No</td>\n",
       "      <td>Fiber optic</td>\n",
       "      <td>Yes</td>\n",
       "      <td>...</td>\n",
       "      <td>No</td>\n",
       "      <td>No</td>\n",
       "      <td>No</td>\n",
       "      <td>No</td>\n",
       "      <td>Month-to-month</td>\n",
       "      <td>No</td>\n",
       "      <td>Mailed check</td>\n",
       "      <td>74.35</td>\n",
       "      <td>533.6</td>\n",
       "      <td>No</td>\n",
       "    </tr>\n",
       "    <tr>\n",
       "      <th>3838</th>\n",
       "      <td>7714-YXSMB</td>\n",
       "      <td>Female</td>\n",
       "      <td>0</td>\n",
       "      <td>No</td>\n",
       "      <td>No</td>\n",
       "      <td>26</td>\n",
       "      <td>Yes</td>\n",
       "      <td>Yes</td>\n",
       "      <td>Fiber optic</td>\n",
       "      <td>No</td>\n",
       "      <td>...</td>\n",
       "      <td>Yes</td>\n",
       "      <td>No</td>\n",
       "      <td>Yes</td>\n",
       "      <td>Yes</td>\n",
       "      <td>Month-to-month</td>\n",
       "      <td>Yes</td>\n",
       "      <td>Bank transfer (automatic)</td>\n",
       "      <td>100.50</td>\n",
       "      <td>2599.95</td>\n",
       "      <td>No</td>\n",
       "    </tr>\n",
       "    <tr>\n",
       "      <th>766</th>\n",
       "      <td>5175-WLYXL</td>\n",
       "      <td>Male</td>\n",
       "      <td>0</td>\n",
       "      <td>No</td>\n",
       "      <td>No</td>\n",
       "      <td>22</td>\n",
       "      <td>Yes</td>\n",
       "      <td>Yes</td>\n",
       "      <td>Fiber optic</td>\n",
       "      <td>No</td>\n",
       "      <td>...</td>\n",
       "      <td>No</td>\n",
       "      <td>No</td>\n",
       "      <td>No</td>\n",
       "      <td>No</td>\n",
       "      <td>Month-to-month</td>\n",
       "      <td>Yes</td>\n",
       "      <td>Mailed check</td>\n",
       "      <td>78.85</td>\n",
       "      <td>1600.25</td>\n",
       "      <td>No</td>\n",
       "    </tr>\n",
       "    <tr>\n",
       "      <th>183</th>\n",
       "      <td>5524-KHNJP</td>\n",
       "      <td>Male</td>\n",
       "      <td>0</td>\n",
       "      <td>Yes</td>\n",
       "      <td>Yes</td>\n",
       "      <td>33</td>\n",
       "      <td>Yes</td>\n",
       "      <td>No</td>\n",
       "      <td>DSL</td>\n",
       "      <td>Yes</td>\n",
       "      <td>...</td>\n",
       "      <td>Yes</td>\n",
       "      <td>No</td>\n",
       "      <td>Yes</td>\n",
       "      <td>Yes</td>\n",
       "      <td>One year</td>\n",
       "      <td>No</td>\n",
       "      <td>Credit card (automatic)</td>\n",
       "      <td>74.75</td>\n",
       "      <td>2453.3</td>\n",
       "      <td>No</td>\n",
       "    </tr>\n",
       "  </tbody>\n",
       "</table>\n",
       "<p>5 rows × 21 columns</p>\n",
       "</div>"
      ],
      "text/plain": [
       "      customerID  gender  SeniorCitizen Partner Dependents  tenure  \\\n",
       "5723  7824-PANSQ    Male              0      No         No      58   \n",
       "6161  4343-EJVQB    Male              0      No         No       7   \n",
       "3838  7714-YXSMB  Female              0      No         No      26   \n",
       "766   5175-WLYXL    Male              0      No         No      22   \n",
       "183   5524-KHNJP    Male              0     Yes        Yes      33   \n",
       "\n",
       "     PhoneService MultipleLines InternetService OnlineSecurity  ...  \\\n",
       "5723          Yes           Yes     Fiber optic             No  ...   \n",
       "6161          Yes            No     Fiber optic            Yes  ...   \n",
       "3838          Yes           Yes     Fiber optic             No  ...   \n",
       "766           Yes           Yes     Fiber optic             No  ...   \n",
       "183           Yes            No             DSL            Yes  ...   \n",
       "\n",
       "     DeviceProtection TechSupport StreamingTV StreamingMovies        Contract  \\\n",
       "5723               No         Yes          No              No  Month-to-month   \n",
       "6161               No          No          No              No  Month-to-month   \n",
       "3838              Yes          No         Yes             Yes  Month-to-month   \n",
       "766                No          No          No              No  Month-to-month   \n",
       "183               Yes          No         Yes             Yes        One year   \n",
       "\n",
       "     PaperlessBilling              PaymentMethod MonthlyCharges  TotalCharges  \\\n",
       "5723               No  Bank transfer (automatic)          80.65       4807.35   \n",
       "6161               No               Mailed check          74.35         533.6   \n",
       "3838              Yes  Bank transfer (automatic)         100.50       2599.95   \n",
       "766               Yes               Mailed check          78.85       1600.25   \n",
       "183                No    Credit card (automatic)          74.75        2453.3   \n",
       "\n",
       "     Churn  \n",
       "5723    No  \n",
       "6161    No  \n",
       "3838    No  \n",
       "766     No  \n",
       "183     No  \n",
       "\n",
       "[5 rows x 21 columns]"
      ]
     },
     "execution_count": 9,
     "metadata": {},
     "output_type": "execute_result"
    }
   ],
   "source": [
    "df.sample(5)"
   ]
  },
  {
   "cell_type": "code",
   "execution_count": 12,
   "id": "ff5d9120-cd50-4f19-93d7-0a75849e94fb",
   "metadata": {},
   "outputs": [],
   "source": [
    "df = df.convert_dtypes()"
   ]
  },
  {
   "cell_type": "code",
   "execution_count": 13,
   "id": "ba68b68d-ac19-4dfb-91e8-108d3d160e4a",
   "metadata": {},
   "outputs": [
    {
     "data": {
      "text/plain": [
       "customerID          string[python]\n",
       "gender              string[python]\n",
       "SeniorCitizen                Int64\n",
       "Partner             string[python]\n",
       "Dependents          string[python]\n",
       "tenure                       Int64\n",
       "PhoneService        string[python]\n",
       "MultipleLines       string[python]\n",
       "InternetService     string[python]\n",
       "OnlineSecurity      string[python]\n",
       "OnlineBackup        string[python]\n",
       "DeviceProtection    string[python]\n",
       "TechSupport         string[python]\n",
       "StreamingTV         string[python]\n",
       "StreamingMovies     string[python]\n",
       "Contract            string[python]\n",
       "PaperlessBilling    string[python]\n",
       "PaymentMethod       string[python]\n",
       "MonthlyCharges             Float64\n",
       "TotalCharges        string[python]\n",
       "Churn               string[python]\n",
       "dtype: object"
      ]
     },
     "execution_count": 13,
     "metadata": {},
     "output_type": "execute_result"
    }
   ],
   "source": [
    "df.dtypes"
   ]
  },
  {
   "cell_type": "code",
   "execution_count": 14,
   "id": "dbc6a315-801e-40b5-a45e-0b7cbb7a867f",
   "metadata": {
    "scrolled": true
   },
   "outputs": [
    {
     "name": "stdout",
     "output_type": "stream",
     "text": [
      "Checking columns for non-numeric data...\n",
      "\n",
      "Problematic columns with non-numeric data:\n",
      "- customerID\n",
      "- gender\n",
      "- Partner\n",
      "- Dependents\n",
      "- PhoneService\n",
      "- MultipleLines\n",
      "- InternetService\n",
      "- OnlineSecurity\n",
      "- OnlineBackup\n",
      "- DeviceProtection\n",
      "- TechSupport\n",
      "- StreamingTV\n",
      "- StreamingMovies\n",
      "- Contract\n",
      "- PaperlessBilling\n",
      "- PaymentMethod\n",
      "- TotalCharges\n",
      "- Churn\n"
     ]
    }
   ],
   "source": [
    "print(\"Checking columns for non-numeric data...\")\n",
    "problem_columns = []\n",
    "\n",
    "# Iterate through all columns in the DataFrame\n",
    "for col in df.columns:\n",
    "    # Try to convert the column to a numeric type\n",
    "    try:\n",
    "        pd.to_numeric(df[col])\n",
    "    except ValueError:\n",
    "        # If a ValueError is raised, it means the column contains non-numeric data\n",
    "        # Store the column name and continue\n",
    "        problem_columns.append(col)\n",
    "\n",
    "\n",
    "if problem_columns:\n",
    "    print(\"\\nProblematic columns with non-numeric data:\")\n",
    "    for col in problem_columns:\n",
    "        print(f\"- {col}\")\n",
    "else:\n",
    "    print(\"\\nNo problematic columns found. The issue might be in the profiling tool itself.\")\n"
   ]
  },
  {
   "cell_type": "code",
   "execution_count": null,
   "id": "6748ba7d-08f0-4b24-8646-1630d2df22c6",
   "metadata": {},
   "outputs": [],
   "source": []
  },
  {
   "cell_type": "code",
   "execution_count": 26,
   "id": "370eebdd-693d-4a16-8eb6-6c47fc5127b2",
   "metadata": {},
   "outputs": [
    {
     "data": {
      "text/plain": [
       "np.float64(0.0)"
      ]
     },
     "execution_count": 26,
     "metadata": {},
     "output_type": "execute_result"
    }
   ],
   "source": [
    "df.loc[df['customerID']=='2775-SEFEE']['TotalCharges'].iloc[0]"
   ]
  },
  {
   "cell_type": "code",
   "execution_count": 21,
   "id": "43d4070a-f1c3-4b3d-baae-72e3a2330f2f",
   "metadata": {},
   "outputs": [],
   "source": [
    "df['TotalCharges'] = df['TotalCharges'].str.strip()"
   ]
  },
  {
   "cell_type": "code",
   "execution_count": 25,
   "id": "21f8d1ac-fed1-44c2-981a-1608b1fbf9d4",
   "metadata": {},
   "outputs": [],
   "source": [
    "df['TotalCharges'] = df['TotalCharges'].str.strip()\n",
    "df['TotalCharges'] = pd.to_numeric(df['TotalCharges'])\n",
    "\n",
    "df = df.fillna({'TotalCharges': 0})"
   ]
  },
  {
   "cell_type": "code",
   "execution_count": 27,
   "id": "6f905ef0-9ec3-4d48-97c8-9b212f479016",
   "metadata": {},
   "outputs": [
    {
     "data": {
      "text/plain": [
       "Churn\n",
       "No     5174\n",
       "Yes    1869\n",
       "Name: count, dtype: Int64"
      ]
     },
     "execution_count": 27,
     "metadata": {},
     "output_type": "execute_result"
    }
   ],
   "source": [
    "df.Churn.value_counts()"
   ]
  },
  {
   "cell_type": "code",
   "execution_count": null,
   "id": "af0bde4c-7e5f-44e8-95e2-a35162c5072c",
   "metadata": {},
   "outputs": [],
   "source": []
  },
  {
   "cell_type": "code",
   "execution_count": null,
   "id": "a9c768f8-e0f4-494a-92d9-693883df3d3f",
   "metadata": {},
   "outputs": [],
   "source": []
  },
  {
   "cell_type": "code",
   "execution_count": null,
   "id": "2d94b488-8ed9-4aca-b2f3-fc30de2b33ab",
   "metadata": {},
   "outputs": [],
   "source": [
    "dvc remote add -d gdrive_remote /content/drive/MyDrive/my_churn_project/dvc_storage\n",
    "\n",
    "\n",
    "\n"
   ]
  },
  {
   "cell_type": "code",
   "execution_count": null,
   "id": "b9cefb4d-cfc1-44bc-828b-a3c45d4d5e91",
   "metadata": {},
   "outputs": [],
   "source": []
  },
  {
   "cell_type": "code",
   "execution_count": null,
   "id": "7e94afa3-0410-4cab-8f8b-a3a8882a9859",
   "metadata": {},
   "outputs": [],
   "source": []
  },
  {
   "cell_type": "code",
   "execution_count": null,
   "id": "50c4d047-4fed-48ed-9ff7-ad18525f09fc",
   "metadata": {},
   "outputs": [],
   "source": [
    "#!/bin/bash\n",
    "\n",
    "# Exit immediately if a command exits with a non-zero status.\n",
    "set -e\n",
    "\n",
    "# --- Initial Setup (Run Once Manually) ---\n",
    "# dvc init\n",
    "# git add .dvc .gitignore && git commit -m \"Initialize DVC\"\n",
    "\n",
    "# --- Ingest Raw Data ---\n",
    "echo \"--- Running Data Ingestion ---\"\n",
    "python scripts/ingest.py\n",
    "dvc add data/raw/telco_churn.csv data/raw/hf_bank_customer_support.csv\n",
    "git add data/raw/telco_churn.csv.dvc data/raw/hf_bank_customer_support.csv.dvc\n",
    "git commit -m \"Version raw ingested data\"\n",
    "dvc push\n",
    "echo \"--- Data Ingestion Complete ---\"\n",
    "echo \"\"\n",
    "\n",
    "# --- Validate Data ---\n",
    "echo \"--- Running Data Validation ---\"\n",
    "python scripts/validate.py\n",
    "dvc add data/validation_report.csv\n",
    "git add data/validation_report.csv.dvc\n",
    "git commit -m \"Version validation report\"\n",
    "dvc push\n",
    "echo \"--- Data Validation Complete ---\"\n",
    "echo \"\"\n",
    "\n",
    "# --- Prepare Data ---\n",
    "echo \"--- Running Data Preparation ---\"\n",
    "python scripts/prepare.py\n",
    "dvc add data/prepared/customer_data_cleaned.csv\n",
    "git add data/prepared/customer_data_cleaned.csv.dvc\n",
    "git commit -m \"Version prepared data\"\n",
    "dvc push\n",
    "echo \"--- Data Preparation Complete ---\"\n",
    "echo \"\"\n",
    "\n",
    "# --- Transform Features ---\n",
    "echo \"--- Running Feature Transformation ---\"\n",
    "python scripts/transform.py\n",
    "dvc add data/processed/customer_features.db\n",
    "git add data/processed/customer_features.db.dvc\n",
    "git commit -m \"Version transformed features\"\n",
    "dvc push\n",
    "echo \"--- Feature Transformation Complete ---\"\n",
    "echo \"\"\n",
    "\n",
    "# --- Train Model ---\n",
    "echo \"--- Running Model Training ---\"\n",
    "python scripts/model_training.py --db-path data/processed/customer_features.db\n",
    "dvc add models/model.pkl\n",
    "git add models/model.pkl.dvc\n",
    "git commit -m \"Version trained model\"\n",
    "dvc push\n",
    "echo \"--- Model Training Complete ---\"\n",
    "echo \"\"\n"
   ]
  }
 ],
 "metadata": {
  "kernelspec": {
   "display_name": "dnn",
   "language": "python",
   "name": "dnn"
  },
  "language_info": {
   "codemirror_mode": {
    "name": "ipython",
    "version": 3
   },
   "file_extension": ".py",
   "mimetype": "text/x-python",
   "name": "python",
   "nbconvert_exporter": "python",
   "pygments_lexer": "ipython3",
   "version": "3.11.13"
  }
 },
 "nbformat": 4,
 "nbformat_minor": 5
}
